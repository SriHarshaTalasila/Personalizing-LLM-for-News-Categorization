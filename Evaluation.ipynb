{
 "cells": [
  {
   "cell_type": "code",
   "execution_count": 8,
   "id": "13f31900",
   "metadata": {},
   "outputs": [],
   "source": [
    "import json\n",
    "import pandas as pd\n",
    "import seaborn as sns\n",
    "import matplotlib.pyplot as plt"
   ]
  },
  {
   "cell_type": "markdown",
   "id": "37bf6f67",
   "metadata": {},
   "source": [
    "## train data\n"
   ]
  },
  {
   "cell_type": "code",
   "execution_count": 9,
   "id": "0a8dfb64",
   "metadata": {
    "scrolled": false
   },
   "outputs": [
    {
     "name": "stdout",
     "output_type": "stream",
     "text": [
      "[\n",
      "  {\n",
      "    \"id\": \"100\",\n",
      "    \"input\": \"Which category does this article relate to among the following categories? Just answer with the category name without further explanation. categories: [women, religion, politics, style & beauty, entertainment, culture & arts, sports, science & technology, travel, business, crime, education, healthy living, parents, food & drink] article: It's hard to find a restaurant that doesn't now place a little card at your table inquiring if the establishment was: (a) really awful; (b) tolerable; (c) sublime.\",\n",
      "    \"profile\": [\n",
      "      {\n",
      "        \"text\": \"The three make a trip of atypical opera themes, but no new opera brought the Met as much controversy as Klinghoffer.\",\n",
      "        \"title\": \"Klinghoffer\",\n",
      "        \"category\": \"culture & arts\",\n",
      "        \"id\": \"1000\"\n",
      "      },\n",
      "      {\n",
      "        \"text\": \"Though I might not subscribe to every prayer in the Siddur, I always use the synagogue time for my own prayer of thanks for being alive and the multitudes of blessings I enjoy.  I want to let the Lord know I haven't forgotten them.  Then, leaving the hall, the yarmulke still in place on my head, I head home feeling a little purer.\",\n",
      "        \"title\": \"Alone in the Synagogue\",\n",
      "        \"category\": \"religion\",\n",
      "        \"id\": \"1001\"\n",
      "      },\n",
      "      {\n",
      "        \"text\": \"I expected him to do well and show me some of his work. The money could be renewed for the second semester and the next year of college. Though I imagined that Mel would want to maintain periodic contact -- at least it was what I hoped -- I was wrong.\",\n",
      "        \"title\": \"Help Is on the Way\",\n",
      "        \"category\": \"religion\",\n",
      "        \"id\": \"1002\"\n",
      "      },\n",
      "      {\n",
      "        \"text\": \"Although my mother swept away any feeling for her native land, I saw my trips as partly for her, maybe an effort to reconnect her to a land that only I wanted her to reconnect with.\",\n",
      "        \"title\": \"From Russia\",\n",
      "        \"category\": \"travel\",\n",
      "        \"id\": \"1003\"\n",
      "      }\n",
      "    ]\n",
      "  }\n",
      "]\n"
     ]
    }
   ],
   "source": [
    "import json\n",
    "\n",
    "file_path = r'C:\\Users\\Abhinav\\Desktop\\Masters Notes\\NLP\\Personalised News Cat Ver2\\Personalizing-LLMs-master\\datasets\\train_data.json'\n",
    "\n",
    "\n",
    "with open(file_path, 'r') as file:\n",
    "    data = json.load(file)\n",
    "\n",
    "\n",
    "number_of_entries_to_print = 1 \n",
    "\n",
    "\n",
    "print(json.dumps(data[:number_of_entries_to_print], indent=2))\n"
   ]
  },
  {
   "cell_type": "markdown",
   "id": "a6e85272",
   "metadata": {},
   "source": [
    "## After pre processing K=1 documents\n"
   ]
  },
  {
   "cell_type": "code",
   "execution_count": 10,
   "id": "84ed46fe",
   "metadata": {},
   "outputs": [
    {
     "name": "stdout",
     "output_type": "stream",
     "text": [
      "[\n",
      "  {\n",
      "    \"id\": 100,\n",
      "    \"input\": \"Which category does this article relate to among the following categories? Just answer with the category name without further explanation. categories: [women, religion, politics, style & beauty, entertainment, culture & arts, sports, science & technology, travel, business, crime, education, healthy living, parents, food & drink] article: It's hard to find a restaurant that doesn't now place a little card at your table inquiring if the establishment was: (a) really awful; (b) tolerable; (c) sublime.\",\n",
      "    \"top_1_user_documents\": [\n",
      "      \"Though I might not subscribe to every prayer in the Siddur, I always use the synagogue time for my own prayer of thanks for being alive and the multitudes of blessings I enjoy.  I want to let the Lord know I haven't forgotten them.  Then, leaving the hall, the yarmulke still in place on my head, I head home feeling a little purer.\"\n",
      "    ],\n",
      "    \"personalized_input\": \"The category for the article: \\\"Though I might not subscribe to every prayer in the Siddur, I always use the synagogue time for my own prayer of thanks for being alive and the multitudes of blessings I enjoy.  I want to let the Lord know I haven't forgotten them.  Then, leaving the hall, the yarmulke still in place on my head, I head home feeling a little purer.\\\" is \\\"religion\\\". Which category does this article relate to among the following categories? Just answer with the category name without further explanation. categories: [women, religion, politics, style & beauty, entertainment, culture & arts, sports, science & technology, travel, business, crime, education, healthy living, parents, food & drink] article: It's hard to find a restaurant that doesn't now place a little card at your table inquiring if the establishment was: (a) really awful; (b) tolerable; (c) sublime.\"\n",
      "  }\n",
      "]\n"
     ]
    }
   ],
   "source": [
    "import json\n",
    "\n",
    "file_path = r'C:\\Users\\Abhinav\\Desktop\\Masters Notes\\NLP\\Personalised News Cat Ver2\\Personalizing-LLMs-master\\datasets\\preprocessed\\LaMP_format\\personalized_train_k1_Input_UserBased_PNC.json'\n",
    "\n",
    "with open(file_path, 'r') as file:\n",
    "    data = json.load(file)\n",
    "\n",
    "\n",
    "number_of_entries_to_print = 1\n",
    "\n",
    "\n",
    "print(json.dumps(data[:number_of_entries_to_print], indent=2))\n"
   ]
  },
  {
   "cell_type": "markdown",
   "id": "5aa64e68",
   "metadata": {},
   "source": [
    "## Without synonyms"
   ]
  },
  {
   "cell_type": "code",
   "execution_count": 11,
   "id": "062e99ca",
   "metadata": {},
   "outputs": [
    {
     "name": "stdout",
     "output_type": "stream",
     "text": [
      "[\n",
      "  {\n",
      "    \"id\": 100,\n",
      "    \"input\": \"Which category does this article relate to among the following categories? Just answer with the category name without further explanation. categories: [women, religion, politics, style & beauty, entertainment, culture & arts, sports, science & technology, travel, business, crime, education, healthy living, parents, food & drink] article: It's hard to find a restaurant that doesn't now place a little card at your table inquiring if the establishment was: (a) really awful; (b) tolerable; (c) sublime.\",\n",
      "    \"top_1_user_documents\": [\n",
      "      \"Though I might not subscribe to every prayer in the Siddur, I always use the synagogue time for my own prayer of thanks for being alive and the multitudes of blessings I enjoy.  I want to let the Lord know I haven't forgotten them.  Then, leaving the hall, the yarmulke still in place on my head, I head home feeling a little purer.\"\n",
      "    ],\n",
      "    \"personalized_input\": \"The category for the article: \\\"Though I might not subscribe to every prayer in the Siddur, I always use the synagogue time for my own prayer of thanks for being alive and the multitudes of blessings I enjoy.  I want to let the Lord know I haven't forgotten them.  Then, leaving the hall, the yarmulke still in place on my head, I head home feeling a little purer.\\\" is \\\"religion\\\". Which category does this article relate to among the following categories? Just answer with the category name without further explanation. categories: [women, religion, politics, style & beauty, entertainment, culture & arts, sports, science & technology, travel, business, crime, education, healthy living, parents, food & drink] article: It's hard to find a restaurant that doesn't now place a little card at your table inquiring if the establishment was: (a) really awful; (b) tolerable; (c) sublime.\"\n",
      "  }\n",
      "]\n"
     ]
    }
   ],
   "source": [
    "import json\n",
    "\n",
    "file_path = r'C:\\Users\\Abhinav\\Desktop\\Masters Notes\\NLP\\Personalised News Cat Ver2\\Personalizing-LLMs-master\\datasets\\preprocessed\\LaMP_format\\without_synonyms_personalized_train_k1_Input_UserBased_PNC.json'\n",
    "\n",
    "with open(file_path, 'r') as file:\n",
    "    data = json.load(file)\n",
    "\n",
    "\n",
    "number_of_entries_to_print = 1\n",
    "\n",
    "\n",
    "print(json.dumps(data[:number_of_entries_to_print], indent=2))\n"
   ]
  },
  {
   "cell_type": "markdown",
   "id": "b9715a07",
   "metadata": {},
   "source": [
    "## k=2 "
   ]
  },
  {
   "cell_type": "code",
   "execution_count": 12,
   "id": "fe4df593",
   "metadata": {},
   "outputs": [
    {
     "name": "stdout",
     "output_type": "stream",
     "text": [
      "[\n",
      "  {\n",
      "    \"id\": 100,\n",
      "    \"input\": \"Which category does this article relate to among the following categories? Just answer with the category name without further explanation. categories: [women, religion, politics, style & beauty, entertainment, culture & arts, sports, science & technology, travel, business, crime, education, healthy living, parents, food & drink] article: It's hard to find a restaurant that doesn't now place a little card at your table inquiring if the establishment was: (a) really awful; (b) tolerable; (c) sublime.\",\n",
      "    \"top_2_user_documents\": [\n",
      "      \"Though I might not subscribe to every prayer in the Siddur, I always use the synagogue time for my own prayer of thanks for being alive and the multitudes of blessings I enjoy.  I want to let the Lord know I haven't forgotten them.  Then, leaving the hall, the yarmulke still in place on my head, I head home feeling a little purer.\",\n",
      "      \"Although my mother swept away any feeling for her native land, I saw my trips as partly for her, maybe an effort to reconnect her to a land that only I wanted her to reconnect with.\"\n",
      "    ],\n",
      "    \"personalized_input\": \"The category for the article: \\\"Though I might not subscribe to every prayer in the Siddur, I always use the synagogue time for my own prayer of thanks for being alive and the multitudes of blessings I enjoy.  I want to let the Lord know I haven't forgotten them.  Then, leaving the hall, the yarmulke still in place on my head, I head home feeling a little purer.\\\" is \\\"religion\\\", and The category for the article: \\\"Although my mother swept away any feeling for her native land, I saw my trips as partly for her, maybe an effort to reconnect her to a land that only I wanted her to reconnect with.\\\" is \\\"travel\\\". Which category does this article relate to among the following categories? Just answer with the category name without further explanation. categories: [women, religion, politics, style & beauty, entertainment, culture & arts, sports, science & technology, travel, business, crime, education, healthy living, parents, food & drink] article: It's hard to find a restaurant that doesn't now place a little card at your table inquiring if the establishment was: (a) really awful; (b) tolerable; (c) sublime.\"\n",
      "  }\n",
      "]\n"
     ]
    }
   ],
   "source": [
    "import json\n",
    "\n",
    "file_path = r'C:\\Users\\Abhinav\\Desktop\\Masters Notes\\NLP\\Personalised News Cat Ver2\\Personalizing-LLMs-master\\datasets\\preprocessed\\LaMP_format\\personalized_train_k2_Input_UserBased_PNC.json'\n",
    "\n",
    "with open(file_path, 'r') as file:\n",
    "    data = json.load(file)\n",
    "\n",
    "\n",
    "number_of_entries_to_print = 1\n",
    "\n",
    "\n",
    "print(json.dumps(data[:number_of_entries_to_print], indent=2))\n"
   ]
  },
  {
   "cell_type": "markdown",
   "id": "7f5a56c8",
   "metadata": {},
   "source": [
    "## k=3 "
   ]
  },
  {
   "cell_type": "code",
   "execution_count": 13,
   "id": "a1214e9c",
   "metadata": {},
   "outputs": [
    {
     "name": "stdout",
     "output_type": "stream",
     "text": [
      "[\n",
      "  {\n",
      "    \"id\": 100,\n",
      "    \"input\": \"Which category does this article relate to among the following categories? Just answer with the category name without further explanation. categories: [women, religion, politics, style & beauty, entertainment, culture & arts, sports, science & technology, travel, business, crime, education, healthy living, parents, food & drink] article: It's hard to find a restaurant that doesn't now place a little card at your table inquiring if the establishment was: (a) really awful; (b) tolerable; (c) sublime.\",\n",
      "    \"top_3_user_documents\": [\n",
      "      \"Though I might not subscribe to every prayer in the Siddur, I always use the synagogue time for my own prayer of thanks for being alive and the multitudes of blessings I enjoy.  I want to let the Lord know I haven't forgotten them.  Then, leaving the hall, the yarmulke still in place on my head, I head home feeling a little purer.\",\n",
      "      \"Although my mother swept away any feeling for her native land, I saw my trips as partly for her, maybe an effort to reconnect her to a land that only I wanted her to reconnect with.\",\n",
      "      \"I expected him to do well and show me some of his work. The money could be renewed for the second semester and the next year of college. Though I imagined that Mel would want to maintain periodic contact -- at least it was what I hoped -- I was wrong.\"\n",
      "    ],\n",
      "    \"personalized_input\": \"The category for the article: \\\"Though I might not subscribe to every prayer in the Siddur, I always use the synagogue time for my own prayer of thanks for being alive and the multitudes of blessings I enjoy.  I want to let the Lord know I haven't forgotten them.  Then, leaving the hall, the yarmulke still in place on my head, I head home feeling a little purer.\\\" is \\\"religion\\\", and The category for the article: \\\"I expected him to do well and show me some of his work. The money could be renewed for the second semester and the next year of college. Though I imagined that Mel would want to maintain periodic contact -- at least it was what I hoped -- I was wrong.\\\" is \\\"religion\\\", and The category for the article: \\\"Although my mother swept away any feeling for her native land, I saw my trips as partly for her, maybe an effort to reconnect her to a land that only I wanted her to reconnect with.\\\" is \\\"travel\\\". Which category does this article relate to among the following categories? Just answer with the category name without further explanation. categories: [women, religion, politics, style & beauty, entertainment, culture & arts, sports, science & technology, travel, business, crime, education, healthy living, parents, food & drink] article: It's hard to find a restaurant that doesn't now place a little card at your table inquiring if the establishment was: (a) really awful; (b) tolerable; (c) sublime.\"\n",
      "  }\n",
      "]\n"
     ]
    }
   ],
   "source": [
    "import json\n",
    "\n",
    "file_path = r'C:\\Users\\Abhinav\\Desktop\\Masters Notes\\NLP\\Personalised News Cat Ver2\\Personalizing-LLMs-master\\datasets\\preprocessed\\LaMP_format\\personalized_train_k3_Input_UserBased_PNC.json'\n",
    "\n",
    "with open(file_path, 'r') as file:\n",
    "    data = json.load(file)\n",
    "\n",
    "number_of_entries_to_print = 1\n",
    "\n",
    "print(json.dumps(data[:number_of_entries_to_print], indent=2))"
   ]
  },
  {
   "cell_type": "markdown",
   "id": "9e3d7eec",
   "metadata": {},
   "source": [
    "## Validation k=1"
   ]
  },
  {
   "cell_type": "code",
   "execution_count": 14,
   "id": "d1693a4f",
   "metadata": {},
   "outputs": [
    {
     "name": "stdout",
     "output_type": "stream",
     "text": [
      "[\n",
      "  {\n",
      "    \"id\": 110,\n",
      "    \"input\": \"Which category does this article relate to among the following categories? Just answer with the category name without further explanation. categories: [women, religion, politics, style & beauty, entertainment, culture & arts, sports, science & technology, travel, business, crime, education, healthy living, parents, food & drink] article: Calls for presidential impeachment have cast a shadow over most modern-day presidents. However, the chorus of impeachers seems louder in the past year.\",\n",
      "    \"top_1_user_documents\": [\n",
      "      \"Republican presidential nominee Donald Trump has been a disgrace to his party and an embarrassment to the nation.  He has consistently demonstrated that he does not have the temperament, judgment, background or humility to lead our country.\"\n",
      "    ],\n",
      "    \"personalized_input\": \"The category for the article: \\\"Republican presidential nominee Donald Trump has been a disgrace to his party and an embarrassment to the nation.  He has consistently demonstrated that he does not have the temperament, judgment, background or humility to lead our country.\\\" is \\\"politics\\\". Which category does this article relate to among the following categories? Just answer with the category name without further explanation. categories: [women, religion, politics, style & beauty, entertainment, culture & arts, sports, science & technology, travel, business, crime, education, healthy living, parents, food & drink] article: Calls for presidential impeachment have cast a shadow over most modern-day presidents. However, the chorus of impeachers seems louder in the past year.\"\n",
      "  }\n",
      "]\n"
     ]
    }
   ],
   "source": [
    "import json\n",
    "\n",
    "file_path = r'C:\\Users\\Abhinav\\Desktop\\Masters Notes\\NLP\\Personalised News Cat Ver2\\Personalizing-LLMs-master\\datasets\\preprocessed\\LaMP_format\\personalized_validation_k1_Input_UserBased_PNC.json'\n",
    "\n",
    "with open(file_path, 'r') as file:\n",
    "    data = json.load(file)\n",
    "\n",
    "\n",
    "number_of_entries_to_print = 1\n",
    "\n",
    "\n",
    "print(json.dumps(data[:number_of_entries_to_print], indent=2))\n"
   ]
  },
  {
   "cell_type": "code",
   "execution_count": 15,
   "id": "2dbbcc67",
   "metadata": {},
   "outputs": [
    {
     "data": {
      "text/html": [
       "<div>\n",
       "<style scoped>\n",
       "    .dataframe tbody tr th:only-of-type {\n",
       "        vertical-align: middle;\n",
       "    }\n",
       "\n",
       "    .dataframe tbody tr th {\n",
       "        vertical-align: top;\n",
       "    }\n",
       "\n",
       "    .dataframe thead th {\n",
       "        text-align: right;\n",
       "    }\n",
       "</style>\n",
       "<table border=\"1\" class=\"dataframe\">\n",
       "  <thead>\n",
       "    <tr style=\"text-align: right;\">\n",
       "      <th></th>\n",
       "      <th>id</th>\n",
       "      <th>output</th>\n",
       "    </tr>\n",
       "  </thead>\n",
       "  <tbody>\n",
       "    <tr>\n",
       "      <th>0</th>\n",
       "      <td>110</td>\n",
       "      <td>politics</td>\n",
       "    </tr>\n",
       "    <tr>\n",
       "      <th>1</th>\n",
       "      <td>111</td>\n",
       "      <td>politics</td>\n",
       "    </tr>\n",
       "    <tr>\n",
       "      <th>2</th>\n",
       "      <td>112</td>\n",
       "      <td>politics</td>\n",
       "    </tr>\n",
       "    <tr>\n",
       "      <th>3</th>\n",
       "      <td>113</td>\n",
       "      <td>sports</td>\n",
       "    </tr>\n",
       "    <tr>\n",
       "      <th>4</th>\n",
       "      <td>114</td>\n",
       "      <td>crime</td>\n",
       "    </tr>\n",
       "    <tr>\n",
       "      <th>5</th>\n",
       "      <td>115</td>\n",
       "      <td>entertainment</td>\n",
       "    </tr>\n",
       "    <tr>\n",
       "      <th>6</th>\n",
       "      <td>116</td>\n",
       "      <td>entertainment</td>\n",
       "    </tr>\n",
       "    <tr>\n",
       "      <th>7</th>\n",
       "      <td>117</td>\n",
       "      <td>entertainment</td>\n",
       "    </tr>\n",
       "    <tr>\n",
       "      <th>8</th>\n",
       "      <td>118</td>\n",
       "      <td>entertainment</td>\n",
       "    </tr>\n",
       "    <tr>\n",
       "      <th>9</th>\n",
       "      <td>119</td>\n",
       "      <td>entertainment</td>\n",
       "    </tr>\n",
       "    <tr>\n",
       "      <th>10</th>\n",
       "      <td>1110</td>\n",
       "      <td>travel</td>\n",
       "    </tr>\n",
       "    <tr>\n",
       "      <th>11</th>\n",
       "      <td>1111</td>\n",
       "      <td>entertainment</td>\n",
       "    </tr>\n",
       "    <tr>\n",
       "      <th>12</th>\n",
       "      <td>1112</td>\n",
       "      <td>style &amp; beauty</td>\n",
       "    </tr>\n",
       "    <tr>\n",
       "      <th>13</th>\n",
       "      <td>1113</td>\n",
       "      <td>sports</td>\n",
       "    </tr>\n",
       "    <tr>\n",
       "      <th>14</th>\n",
       "      <td>1114</td>\n",
       "      <td>style &amp; beauty</td>\n",
       "    </tr>\n",
       "    <tr>\n",
       "      <th>15</th>\n",
       "      <td>1115</td>\n",
       "      <td>women</td>\n",
       "    </tr>\n",
       "    <tr>\n",
       "      <th>16</th>\n",
       "      <td>1116</td>\n",
       "      <td>style &amp; beauty</td>\n",
       "    </tr>\n",
       "    <tr>\n",
       "      <th>17</th>\n",
       "      <td>1117</td>\n",
       "      <td>travel</td>\n",
       "    </tr>\n",
       "    <tr>\n",
       "      <th>18</th>\n",
       "      <td>1118</td>\n",
       "      <td>women</td>\n",
       "    </tr>\n",
       "    <tr>\n",
       "      <th>19</th>\n",
       "      <td>1119</td>\n",
       "      <td>healthy living</td>\n",
       "    </tr>\n",
       "  </tbody>\n",
       "</table>\n",
       "</div>"
      ],
      "text/plain": [
       "      id          output\n",
       "0    110        politics\n",
       "1    111        politics\n",
       "2    112        politics\n",
       "3    113          sports\n",
       "4    114           crime\n",
       "5    115   entertainment\n",
       "6    116   entertainment\n",
       "7    117   entertainment\n",
       "8    118   entertainment\n",
       "9    119   entertainment\n",
       "10  1110          travel\n",
       "11  1111   entertainment\n",
       "12  1112  style & beauty\n",
       "13  1113          sports\n",
       "14  1114  style & beauty\n",
       "15  1115           women\n",
       "16  1116  style & beauty\n",
       "17  1117          travel\n",
       "18  1118           women\n",
       "19  1119  healthy living"
      ]
     },
     "execution_count": 15,
     "metadata": {},
     "output_type": "execute_result"
    }
   ],
   "source": [
    "\n",
    "file_path = r'C:\\Users\\Abhinav\\Desktop\\Masters Notes\\NLP\\Personalised News Cat Ver2\\Personalizing-LLMs-master\\datasets\\preprocessed\\Outputs_LaMP_format\\output_personalized_validation_k1_Input_UserBased_PNC.json'\n",
    "with open(file_path, 'r') as file:\n",
    "    data = json.load(file)\n",
    "\n",
    "first_5_entries_df = pd.DataFrame(data['golds'][:20])\n",
    "first_5_entries_df\n"
   ]
  },
  {
   "cell_type": "code",
   "execution_count": 16,
   "id": "70432368",
   "metadata": {},
   "outputs": [
    {
     "data": {
      "text/html": [
       "<div>\n",
       "<style scoped>\n",
       "    .dataframe tbody tr th:only-of-type {\n",
       "        vertical-align: middle;\n",
       "    }\n",
       "\n",
       "    .dataframe tbody tr th {\n",
       "        vertical-align: top;\n",
       "    }\n",
       "\n",
       "    .dataframe thead th {\n",
       "        text-align: right;\n",
       "    }\n",
       "</style>\n",
       "<table border=\"1\" class=\"dataframe\">\n",
       "  <thead>\n",
       "    <tr style=\"text-align: right;\">\n",
       "      <th></th>\n",
       "      <th>id</th>\n",
       "      <th>output</th>\n",
       "    </tr>\n",
       "  </thead>\n",
       "  <tbody>\n",
       "    <tr>\n",
       "      <th>0</th>\n",
       "      <td>110</td>\n",
       "      <td>politics</td>\n",
       "    </tr>\n",
       "    <tr>\n",
       "      <th>1</th>\n",
       "      <td>111</td>\n",
       "      <td>politics</td>\n",
       "    </tr>\n",
       "    <tr>\n",
       "      <th>2</th>\n",
       "      <td>112</td>\n",
       "      <td>politics</td>\n",
       "    </tr>\n",
       "    <tr>\n",
       "      <th>3</th>\n",
       "      <td>113</td>\n",
       "      <td>sports</td>\n",
       "    </tr>\n",
       "    <tr>\n",
       "      <th>4</th>\n",
       "      <td>114</td>\n",
       "      <td>crime</td>\n",
       "    </tr>\n",
       "    <tr>\n",
       "      <th>5</th>\n",
       "      <td>115</td>\n",
       "      <td>entertainment</td>\n",
       "    </tr>\n",
       "    <tr>\n",
       "      <th>6</th>\n",
       "      <td>116</td>\n",
       "      <td>entertainment</td>\n",
       "    </tr>\n",
       "    <tr>\n",
       "      <th>7</th>\n",
       "      <td>117</td>\n",
       "      <td>entertainment</td>\n",
       "    </tr>\n",
       "    <tr>\n",
       "      <th>8</th>\n",
       "      <td>118</td>\n",
       "      <td>entertainment</td>\n",
       "    </tr>\n",
       "    <tr>\n",
       "      <th>9</th>\n",
       "      <td>119</td>\n",
       "      <td>entertainment</td>\n",
       "    </tr>\n",
       "    <tr>\n",
       "      <th>10</th>\n",
       "      <td>1110</td>\n",
       "      <td>travel</td>\n",
       "    </tr>\n",
       "    <tr>\n",
       "      <th>11</th>\n",
       "      <td>1111</td>\n",
       "      <td>entertainment</td>\n",
       "    </tr>\n",
       "    <tr>\n",
       "      <th>12</th>\n",
       "      <td>1112</td>\n",
       "      <td>style &amp; beauty</td>\n",
       "    </tr>\n",
       "    <tr>\n",
       "      <th>13</th>\n",
       "      <td>1113</td>\n",
       "      <td>sports</td>\n",
       "    </tr>\n",
       "    <tr>\n",
       "      <th>14</th>\n",
       "      <td>1114</td>\n",
       "      <td>style &amp; beauty</td>\n",
       "    </tr>\n",
       "    <tr>\n",
       "      <th>15</th>\n",
       "      <td>1115</td>\n",
       "      <td>women</td>\n",
       "    </tr>\n",
       "    <tr>\n",
       "      <th>16</th>\n",
       "      <td>1116</td>\n",
       "      <td>style &amp; beauty</td>\n",
       "    </tr>\n",
       "    <tr>\n",
       "      <th>17</th>\n",
       "      <td>1117</td>\n",
       "      <td>travel</td>\n",
       "    </tr>\n",
       "    <tr>\n",
       "      <th>18</th>\n",
       "      <td>1118</td>\n",
       "      <td>women</td>\n",
       "    </tr>\n",
       "    <tr>\n",
       "      <th>19</th>\n",
       "      <td>1119</td>\n",
       "      <td>healthy living</td>\n",
       "    </tr>\n",
       "  </tbody>\n",
       "</table>\n",
       "</div>"
      ],
      "text/plain": [
       "      id          output\n",
       "0    110        politics\n",
       "1    111        politics\n",
       "2    112        politics\n",
       "3    113          sports\n",
       "4    114           crime\n",
       "5    115   entertainment\n",
       "6    116   entertainment\n",
       "7    117   entertainment\n",
       "8    118   entertainment\n",
       "9    119   entertainment\n",
       "10  1110          travel\n",
       "11  1111   entertainment\n",
       "12  1112  style & beauty\n",
       "13  1113          sports\n",
       "14  1114  style & beauty\n",
       "15  1115           women\n",
       "16  1116  style & beauty\n",
       "17  1117          travel\n",
       "18  1118           women\n",
       "19  1119  healthy living"
      ]
     },
     "execution_count": 16,
     "metadata": {},
     "output_type": "execute_result"
    }
   ],
   "source": [
    "file_path = r'C:\\Users\\Abhinav\\Desktop\\Masters Notes\\NLP\\Personalised News Cat Ver2\\Personalizing-LLMs-master\\datasets\\preprocessed\\Outputs_LaMP_format\\output_personalized_validation_k3_Input_UserBased_PNC.json'\n",
    "with open(file_path, 'r') as file:\n",
    "    data = json.load(file)\n",
    "\n",
    "first_5_entries_df = pd.DataFrame(data['golds'][:20])\n",
    "first_5_entries_df"
   ]
  },
  {
   "cell_type": "code",
   "execution_count": 17,
   "id": "46497a41",
   "metadata": {},
   "outputs": [
    {
     "data": {
      "text/html": [
       "<div>\n",
       "<style scoped>\n",
       "    .dataframe tbody tr th:only-of-type {\n",
       "        vertical-align: middle;\n",
       "    }\n",
       "\n",
       "    .dataframe tbody tr th {\n",
       "        vertical-align: top;\n",
       "    }\n",
       "\n",
       "    .dataframe thead th {\n",
       "        text-align: right;\n",
       "    }\n",
       "</style>\n",
       "<table border=\"1\" class=\"dataframe\">\n",
       "  <thead>\n",
       "    <tr style=\"text-align: right;\">\n",
       "      <th></th>\n",
       "      <th>id</th>\n",
       "      <th>output</th>\n",
       "    </tr>\n",
       "  </thead>\n",
       "  <tbody>\n",
       "    <tr>\n",
       "      <th>0</th>\n",
       "      <td>110</td>\n",
       "      <td>politics</td>\n",
       "    </tr>\n",
       "    <tr>\n",
       "      <th>1</th>\n",
       "      <td>111</td>\n",
       "      <td>politics</td>\n",
       "    </tr>\n",
       "    <tr>\n",
       "      <th>2</th>\n",
       "      <td>112</td>\n",
       "      <td>politics</td>\n",
       "    </tr>\n",
       "    <tr>\n",
       "      <th>3</th>\n",
       "      <td>113</td>\n",
       "      <td>sports</td>\n",
       "    </tr>\n",
       "    <tr>\n",
       "      <th>4</th>\n",
       "      <td>114</td>\n",
       "      <td>crime</td>\n",
       "    </tr>\n",
       "    <tr>\n",
       "      <th>5</th>\n",
       "      <td>115</td>\n",
       "      <td>entertainment</td>\n",
       "    </tr>\n",
       "    <tr>\n",
       "      <th>6</th>\n",
       "      <td>116</td>\n",
       "      <td>entertainment</td>\n",
       "    </tr>\n",
       "    <tr>\n",
       "      <th>7</th>\n",
       "      <td>117</td>\n",
       "      <td>entertainment</td>\n",
       "    </tr>\n",
       "    <tr>\n",
       "      <th>8</th>\n",
       "      <td>118</td>\n",
       "      <td>entertainment</td>\n",
       "    </tr>\n",
       "    <tr>\n",
       "      <th>9</th>\n",
       "      <td>119</td>\n",
       "      <td>entertainment</td>\n",
       "    </tr>\n",
       "    <tr>\n",
       "      <th>10</th>\n",
       "      <td>1110</td>\n",
       "      <td>travel</td>\n",
       "    </tr>\n",
       "    <tr>\n",
       "      <th>11</th>\n",
       "      <td>1111</td>\n",
       "      <td>entertainment</td>\n",
       "    </tr>\n",
       "    <tr>\n",
       "      <th>12</th>\n",
       "      <td>1112</td>\n",
       "      <td>style &amp; beauty</td>\n",
       "    </tr>\n",
       "    <tr>\n",
       "      <th>13</th>\n",
       "      <td>1113</td>\n",
       "      <td>sports</td>\n",
       "    </tr>\n",
       "    <tr>\n",
       "      <th>14</th>\n",
       "      <td>1114</td>\n",
       "      <td>style &amp; beauty</td>\n",
       "    </tr>\n",
       "    <tr>\n",
       "      <th>15</th>\n",
       "      <td>1115</td>\n",
       "      <td>women</td>\n",
       "    </tr>\n",
       "    <tr>\n",
       "      <th>16</th>\n",
       "      <td>1116</td>\n",
       "      <td>style &amp; beauty</td>\n",
       "    </tr>\n",
       "    <tr>\n",
       "      <th>17</th>\n",
       "      <td>1117</td>\n",
       "      <td>travel</td>\n",
       "    </tr>\n",
       "    <tr>\n",
       "      <th>18</th>\n",
       "      <td>1118</td>\n",
       "      <td>women</td>\n",
       "    </tr>\n",
       "    <tr>\n",
       "      <th>19</th>\n",
       "      <td>1119</td>\n",
       "      <td>women</td>\n",
       "    </tr>\n",
       "  </tbody>\n",
       "</table>\n",
       "</div>"
      ],
      "text/plain": [
       "      id          output\n",
       "0    110        politics\n",
       "1    111        politics\n",
       "2    112        politics\n",
       "3    113          sports\n",
       "4    114           crime\n",
       "5    115   entertainment\n",
       "6    116   entertainment\n",
       "7    117   entertainment\n",
       "8    118   entertainment\n",
       "9    119   entertainment\n",
       "10  1110          travel\n",
       "11  1111   entertainment\n",
       "12  1112  style & beauty\n",
       "13  1113          sports\n",
       "14  1114  style & beauty\n",
       "15  1115           women\n",
       "16  1116  style & beauty\n",
       "17  1117          travel\n",
       "18  1118           women\n",
       "19  1119           women"
      ]
     },
     "execution_count": 17,
     "metadata": {},
     "output_type": "execute_result"
    }
   ],
   "source": [
    "file_path = r'C:\\Users\\Abhinav\\Desktop\\Masters Notes\\NLP\\Personalised News Cat Ver2\\Personalizing-LLMs-master\\datasets\\evalO.json'\n",
    "with open(file_path, 'r') as file:\n",
    "    data = json.load(file)\n",
    "\n",
    "first_5_entries_df = pd.DataFrame(data['golds'][:20])\n",
    "first_5_entries_df"
   ]
  },
  {
   "cell_type": "code",
   "execution_count": 18,
   "id": "1d2e4743",
   "metadata": {},
   "outputs": [],
   "source": [
    "from sklearn.metrics import f1_score, accuracy_score\n",
    "def calculate_f1_and_accuracy(predicted_file_path, true_file_path):\n",
    "    # Load predicted outputs\n",
    "    with open(predicted_file_path, 'r') as file:\n",
    "        predictions_data = json.load(file)['golds']\n",
    "\n",
    "    # Load true outputs\n",
    "    with open(true_file_path, 'r') as file:\n",
    "        true_data = json.load(file)['golds']\n",
    "\n",
    "    # Map IDs to predictions and true labels\n",
    "    predictions = {item['id']: item['output'] for item in predictions_data}\n",
    "    true_labels = {item['id']: item['output'] for item in true_data}\n",
    "\n",
    "    # Ensure the order of predictions matches the order of true labels\n",
    "    aligned_predictions = [predictions[id] for id in true_labels if id in predictions]\n",
    "    aligned_true_labels = [true_labels[id] for id in true_labels if id in predictions]\n",
    "\n",
    "    # Calculate F1 score and accuracy\n",
    "    f1 = f1_score(aligned_true_labels, aligned_predictions, average='weighted')  # Adjust average as needed\n",
    "    accuracy = accuracy_score(aligned_true_labels, aligned_predictions)\n",
    "\n",
    "    # Print the results\n",
    "    print(f\"F1 Score: {f1}\")\n",
    "    print(f\"Accuracy: {accuracy}\")"
   ]
  },
  {
   "cell_type": "markdown",
   "id": "fe820650",
   "metadata": {},
   "source": [
    "## Without LLM fine tuning and without lexical augmentation -> k=1"
   ]
  },
  {
   "cell_type": "code",
   "execution_count": 19,
   "id": "25131494",
   "metadata": {},
   "outputs": [
    {
     "name": "stdout",
     "output_type": "stream",
     "text": [
      "F1 Score: 0.5211417608917396\n",
      "Accuracy: 0.4220532319391635\n"
     ]
    }
   ],
   "source": [
    "predicted_file_path = r'C:\\Users\\Abhinav\\Desktop\\Masters Notes\\NLP\\Personalised News Cat Ver2\\Personalizing-LLMs-master\\datasets\\preprocessed\\Outputs_LaMP_format_base\\output_base_without_synonyms_personalized_validation_k1_Input_UserBased_PNC.json'\n",
    "true_file_path = r'C:\\Users\\Abhinav\\Desktop\\Masters Notes\\NLP\\Personalised News Cat Ver2\\Personalizing-LLMs-master\\datasets\\evalO.json'\n",
    "calculate_f1_and_accuracy(predicted_file_path, true_file_path)"
   ]
  },
  {
   "cell_type": "markdown",
   "id": "2bdf6c7e",
   "metadata": {},
   "source": [
    "## Without LLM fine tuning and without lexical augmentation -> k=2"
   ]
  },
  {
   "cell_type": "code",
   "execution_count": 20,
   "id": "04f8a368",
   "metadata": {},
   "outputs": [
    {
     "name": "stdout",
     "output_type": "stream",
     "text": [
      "F1 Score: 0.47601703489926767\n",
      "Accuracy: 0.3811787072243346\n"
     ]
    }
   ],
   "source": [
    "predicted_file_path = r'C:\\Users\\Abhinav\\Desktop\\Masters Notes\\NLP\\Personalised News Cat Ver2\\Personalizing-LLMs-master\\datasets\\preprocessed\\Outputs_LaMP_format_base\\output_base_without_synonyms_personalized_validation_k2_Input_UserBased_PNC.json'\n",
    "true_file_path = r'C:\\Users\\Abhinav\\Desktop\\Masters Notes\\NLP\\Personalised News Cat Ver2\\Personalizing-LLMs-master\\datasets\\evalO.json'\n",
    "calculate_f1_and_accuracy(predicted_file_path, true_file_path)"
   ]
  },
  {
   "cell_type": "markdown",
   "id": "a77d0493",
   "metadata": {},
   "source": [
    "## Without LLM fine tuning and without lexical augmentation -> k=3"
   ]
  },
  {
   "cell_type": "code",
   "execution_count": 21,
   "id": "2cd95237",
   "metadata": {},
   "outputs": [
    {
     "name": "stdout",
     "output_type": "stream",
     "text": [
      "F1 Score: 0.4485937604810475\n",
      "Accuracy: 0.3517110266159696\n"
     ]
    }
   ],
   "source": [
    "predicted_file_path = r'C:\\Users\\Abhinav\\Desktop\\Masters Notes\\NLP\\Personalised News Cat Ver2\\Personalizing-LLMs-master\\datasets\\preprocessed\\Outputs_LaMP_format_base\\output_base_without_synonyms_personalized_validation_k3_Input_UserBased_PNC.json'\n",
    "true_file_path = r'C:\\Users\\Abhinav\\Desktop\\Masters Notes\\NLP\\Personalised News Cat Ver2\\Personalizing-LLMs-master\\datasets\\evalO.json'\n",
    "calculate_f1_and_accuracy(predicted_file_path, true_file_path)"
   ]
  },
  {
   "cell_type": "markdown",
   "id": "bf2996df",
   "metadata": {},
   "source": [
    "## Without LLM fine tuning and with lexical augmentation -> k=1"
   ]
  },
  {
   "cell_type": "code",
   "execution_count": 22,
   "id": "97913a93",
   "metadata": {},
   "outputs": [
    {
     "name": "stdout",
     "output_type": "stream",
     "text": [
      "F1 Score: 0.5260692277973489\n",
      "Accuracy: 0.42585551330798477\n"
     ]
    }
   ],
   "source": [
    "predicted_file_path = r'C:\\Users\\Abhinav\\Desktop\\Masters Notes\\NLP\\Personalised News Cat Ver2\\Personalizing-LLMs-master\\datasets\\preprocessed\\Outputs_LaMP_format_base\\output_base_personalized_validation_k1_Input_UserBased_PNC.json'\n",
    "true_file_path = r'C:\\Users\\Abhinav\\Desktop\\Masters Notes\\NLP\\Personalised News Cat Ver2\\Personalizing-LLMs-master\\datasets\\evalO.json'\n",
    "calculate_f1_and_accuracy(predicted_file_path, true_file_path)"
   ]
  },
  {
   "cell_type": "markdown",
   "id": "6d4d5fb1",
   "metadata": {},
   "source": [
    "## Without LLM fine tuning and with lexical augmentation -> k=2"
   ]
  },
  {
   "cell_type": "code",
   "execution_count": 23,
   "id": "49b33209",
   "metadata": {},
   "outputs": [
    {
     "name": "stdout",
     "output_type": "stream",
     "text": [
      "F1 Score: 0.47142305248249494\n",
      "Accuracy: 0.3754752851711027\n"
     ]
    }
   ],
   "source": [
    "predicted_file_path = r'C:\\Users\\Abhinav\\Desktop\\Masters Notes\\NLP\\Personalised News Cat Ver2\\Personalizing-LLMs-master\\datasets\\preprocessed\\Outputs_LaMP_format_base\\output_base_personalized_validation_k2_Input_UserBased_PNC.json'\n",
    "true_file_path = r'C:\\Users\\Abhinav\\Desktop\\Masters Notes\\NLP\\Personalised News Cat Ver2\\Personalizing-LLMs-master\\datasets\\evalO.json'\n",
    "calculate_f1_and_accuracy(predicted_file_path, true_file_path)"
   ]
  },
  {
   "cell_type": "markdown",
   "id": "f2d73f18",
   "metadata": {},
   "source": [
    "## Without LLM fine tuning and with lexical augmentation -> k=3"
   ]
  },
  {
   "cell_type": "code",
   "execution_count": 24,
   "id": "c65a12e6",
   "metadata": {},
   "outputs": [
    {
     "name": "stdout",
     "output_type": "stream",
     "text": [
      "F1 Score: 0.44952669077559776\n",
      "Accuracy: 0.35361216730038025\n"
     ]
    }
   ],
   "source": [
    "predicted_file_path = r'C:\\Users\\Abhinav\\Desktop\\Masters Notes\\NLP\\Personalised News Cat Ver2\\Personalizing-LLMs-master\\datasets\\preprocessed\\Outputs_LaMP_format_base\\output_base_personalized_validation_k3_Input_UserBased_PNC.json'\n",
    "true_file_path = r'C:\\Users\\Abhinav\\Desktop\\Masters Notes\\NLP\\Personalised News Cat Ver2\\Personalizing-LLMs-master\\datasets\\evalO.json'\n",
    "calculate_f1_and_accuracy(predicted_file_path, true_file_path)"
   ]
  },
  {
   "cell_type": "markdown",
   "id": "53a475db",
   "metadata": {},
   "source": [
    "## With LLM fine tuning and without lexical augmentation -> k=1"
   ]
  },
  {
   "cell_type": "code",
   "execution_count": 25,
   "id": "48d2746f",
   "metadata": {},
   "outputs": [
    {
     "name": "stdout",
     "output_type": "stream",
     "text": [
      "F1 Score: 0.8679449661177709\n",
      "Accuracy: 0.8669201520912547\n"
     ]
    }
   ],
   "source": [
    "predicted_file_path = r'C:\\Users\\Abhinav\\Desktop\\Masters Notes\\NLP\\Personalised News Cat Ver2\\Personalizing-LLMs-master\\datasets\\preprocessed\\Outputs_LaMP_format\\output_without_synonyms_personalized_validation_k1_Input_UserBased_PNC.json'\n",
    "true_file_path = r'C:\\Users\\Abhinav\\Desktop\\Masters Notes\\NLP\\Personalised News Cat Ver2\\Personalizing-LLMs-master\\datasets\\evalO.json'\n",
    "calculate_f1_and_accuracy(predicted_file_path, true_file_path)"
   ]
  },
  {
   "cell_type": "markdown",
   "id": "95d55085",
   "metadata": {},
   "source": [
    "## With LLM fine tuning and without lexical augmentation -> k=2"
   ]
  },
  {
   "cell_type": "code",
   "execution_count": 26,
   "id": "1ec1694a",
   "metadata": {},
   "outputs": [
    {
     "name": "stdout",
     "output_type": "stream",
     "text": [
      "F1 Score: 0.8716865342901934\n",
      "Accuracy: 0.870722433460076\n"
     ]
    }
   ],
   "source": [
    "predicted_file_path = r'C:\\Users\\Abhinav\\Desktop\\Masters Notes\\NLP\\Personalised News Cat Ver2\\Personalizing-LLMs-master\\datasets\\preprocessed\\Outputs_LaMP_format\\output_without_synonyms_personalized_validation_k2_Input_UserBased_PNC.json'\n",
    "true_file_path = r'C:\\Users\\Abhinav\\Desktop\\Masters Notes\\NLP\\Personalised News Cat Ver2\\Personalizing-LLMs-master\\datasets\\evalO.json'\n",
    "calculate_f1_and_accuracy(predicted_file_path, true_file_path)"
   ]
  },
  {
   "cell_type": "markdown",
   "id": "1740e3b3",
   "metadata": {},
   "source": [
    "## With LLM fine tuning and without lexical augmentation -> k=3"
   ]
  },
  {
   "cell_type": "code",
   "execution_count": 27,
   "id": "f88aefdf",
   "metadata": {},
   "outputs": [
    {
     "name": "stdout",
     "output_type": "stream",
     "text": [
      "F1 Score: 0.8765956373386407\n",
      "Accuracy: 0.8754752851711026\n"
     ]
    }
   ],
   "source": [
    "predicted_file_path = r'C:\\Users\\Abhinav\\Desktop\\Masters Notes\\NLP\\Personalised News Cat Ver2\\Personalizing-LLMs-master\\datasets\\preprocessed\\Outputs_LaMP_format\\output_without_synonyms_personalized_validation_k3_Input_UserBased_PNC.json'\n",
    "true_file_path = r'C:\\Users\\Abhinav\\Desktop\\Masters Notes\\NLP\\Personalised News Cat Ver2\\Personalizing-LLMs-master\\datasets\\evalO.json'\n",
    "calculate_f1_and_accuracy(predicted_file_path, true_file_path)"
   ]
  },
  {
   "cell_type": "markdown",
   "id": "061a82d8",
   "metadata": {},
   "source": [
    "## With LLM fine tuning and with lexical augmentation -> k=1"
   ]
  },
  {
   "cell_type": "code",
   "execution_count": 28,
   "id": "9c1d8998",
   "metadata": {},
   "outputs": [
    {
     "name": "stdout",
     "output_type": "stream",
     "text": [
      "F1 Score: 0.8697433003730219\n",
      "Accuracy: 0.8688212927756654\n"
     ]
    }
   ],
   "source": [
    "predicted_file_path = r'C:\\Users\\Abhinav\\Desktop\\Masters Notes\\NLP\\Personalised News Cat Ver2\\Personalizing-LLMs-master\\datasets\\preprocessed\\Outputs_LaMP_format\\output_personalized_validation_k1_Input_UserBased_PNC.json'\n",
    "true_file_path = r'C:\\Users\\Abhinav\\Desktop\\Masters Notes\\NLP\\Personalised News Cat Ver2\\Personalizing-LLMs-master\\datasets\\evalO.json'\n",
    "calculate_f1_and_accuracy(predicted_file_path, true_file_path)"
   ]
  },
  {
   "cell_type": "markdown",
   "id": "edace5f7",
   "metadata": {},
   "source": [
    "## With LLM fine tuning and with lexical augmentation -> k=2"
   ]
  },
  {
   "cell_type": "code",
   "execution_count": 29,
   "id": "95859801",
   "metadata": {},
   "outputs": [
    {
     "name": "stdout",
     "output_type": "stream",
     "text": [
      "F1 Score: 0.8737617895587881\n",
      "Accuracy: 0.8726235741444867\n"
     ]
    }
   ],
   "source": [
    "predicted_file_path = r'C:\\Users\\Abhinav\\Desktop\\Masters Notes\\NLP\\Personalised News Cat Ver2\\Personalizing-LLMs-master\\datasets\\preprocessed\\Outputs_LaMP_format\\output_personalized_validation_k2_Input_UserBased_PNC.json'\n",
    "true_file_path = r'C:\\Users\\Abhinav\\Desktop\\Masters Notes\\NLP\\Personalised News Cat Ver2\\Personalizing-LLMs-master\\datasets\\evalO.json'\n",
    "calculate_f1_and_accuracy(predicted_file_path, true_file_path)"
   ]
  },
  {
   "cell_type": "markdown",
   "id": "6727b3b8",
   "metadata": {},
   "source": [
    "## With LLM fine tuning and with lexical augmentation -> k=3"
   ]
  },
  {
   "cell_type": "code",
   "execution_count": 30,
   "id": "1a4c4c98",
   "metadata": {},
   "outputs": [
    {
     "name": "stdout",
     "output_type": "stream",
     "text": [
      "F1 Score: 0.8736423117789656\n",
      "Accuracy: 0.8726235741444867\n"
     ]
    }
   ],
   "source": [
    "predicted_file_path = r'C:\\Users\\Abhinav\\Desktop\\Masters Notes\\NLP\\Personalised News Cat Ver2\\Personalizing-LLMs-master\\datasets\\preprocessed\\Outputs_LaMP_format\\output_personalized_validation_k3_Input_UserBased_PNC.json'\n",
    "true_file_path = r'C:\\Users\\Abhinav\\Desktop\\Masters Notes\\NLP\\Personalised News Cat Ver2\\Personalizing-LLMs-master\\datasets\\evalO.json'\n",
    "calculate_f1_and_accuracy(predicted_file_path, true_file_path)"
   ]
  }
 ],
 "metadata": {
  "kernelspec": {
   "display_name": "Python 3 (ipykernel)",
   "language": "python",
   "name": "python3"
  },
  "language_info": {
   "codemirror_mode": {
    "name": "ipython",
    "version": 3
   },
   "file_extension": ".py",
   "mimetype": "text/x-python",
   "name": "python",
   "nbconvert_exporter": "python",
   "pygments_lexer": "ipython3",
   "version": "3.9.13"
  }
 },
 "nbformat": 4,
 "nbformat_minor": 5
}
